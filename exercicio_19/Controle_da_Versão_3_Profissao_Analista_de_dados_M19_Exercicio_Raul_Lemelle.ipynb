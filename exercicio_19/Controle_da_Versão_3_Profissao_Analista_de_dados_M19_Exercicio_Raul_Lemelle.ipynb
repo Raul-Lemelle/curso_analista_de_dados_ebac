{
  "cells": [
    {
      "cell_type": "markdown",
      "metadata": {
        "id": "KJqp9AANOCtf"
      },
      "source": [
        "<img src=\"https://raw.githubusercontent.com/andre-marcos-perez/ebac-course-utils/main/media/logo/newebac_logo_black_half.png\" alt=\"ebac-logo\">\n",
        "\n",
        "---\n",
        "\n",
        "# **Módulo** | Análise de Dados: Controle de Versão III\n",
        "Caderno de **Exercícios**<br>\n",
        "Professor [André Perez](https://www.linkedin.com/in/andremarcosperez/)\n",
        "\n",
        "---"
      ]
    },
    {
      "cell_type": "markdown",
      "metadata": {
        "id": "d9jDtUbDOE1-"
      },
      "source": [
        "# **Tópicos**\n",
        "\n",
        "<ol type=\"1\">\n",
        "  <li>Sistema de branchs;</li>\n",
        "  <li>Trabalhando com branchs;</li>\n",
        "  <li>Mover código entre branchs.</li>\n",
        "</ol>"
      ]
    },
    {
      "cell_type": "markdown",
      "metadata": {
        "id": "SmoHgt-lwkpD"
      },
      "source": [
        "---"
      ]
    },
    {
      "cell_type": "markdown",
      "metadata": {
        "id": "GABI6OW8OfQ2"
      },
      "source": [
        "# **Exercícios**"
      ]
    },
    {
      "cell_type": "markdown",
      "metadata": {
        "id": "kzRDceCvkFj2"
      },
      "source": [
        "## 1\\. Setup"
      ]
    },
    {
      "cell_type": "markdown",
      "metadata": {
        "id": "WCQi-s0Hpd5V"
      },
      "source": [
        "Para realizar os exercicios vamos configurar o `git` e trazer o projeto do GitHub para a a máquina virtual do Google Colab (ou na sua máquina local, as instruções são as mesmas). Para tanto, replique as atividades expostas na aula 1 deste módulo."
      ]
    },
    {
      "cell_type": "markdown",
      "metadata": {
        "id": "HrTLgE0tki6P"
      },
      "source": [
        "### **1.1. Autenticação**"
      ]
    },
    {
      "cell_type": "markdown",
      "metadata": {
        "id": "7tIjNOs8q6aZ"
      },
      "source": [
        "Nesta etapa, vamos configura o `git` com suas credenciais."
      ]
    },
    {
      "cell_type": "code",
      "execution_count": null,
      "metadata": {
        "id": "IwTTh4VKkdKN"
      },
      "outputs": [],
      "source": [
        "import os\n",
        "\n",
        "username = \"Raul-Lemelle\" # insira o seu nome de usuário do git\n",
        "os.environ[\"GITHUB_USER\"] = username\n",
        "\n",
        "!git config --global user.name \"${GITHUB_USER}\""
      ]
    },
    {
      "cell_type": "code",
      "execution_count": null,
      "metadata": {
        "id": "8gt4Y28skdKO"
      },
      "outputs": [],
      "source": [
        "import os\n",
        "from getpass import getpass\n",
        "\n",
        "usermail = getpass()\n",
        "os.environ[\"GITHUB_MAIL\"] = usermail\n",
        "\n",
        "!git config --global user.email \"${GITHUB_MAIL}\""
      ]
    },
    {
      "cell_type": "code",
      "execution_count": null,
      "metadata": {
        "colab": {
          "base_uri": "https://localhost:8080/"
        },
        "id": "BS6vMNnCkdKO",
        "outputId": "97d08a1c-46b5-43ac-b130-a022cf196422"
      },
      "outputs": [
        {
          "name": "stdout",
          "output_type": "stream",
          "text": [
            "··········\n"
          ]
        }
      ],
      "source": [
        "import os\n",
        "from getpass import getpass\n",
        "\n",
        "usertoken = getpass()\n",
        "os.environ[\"GITHUB_TOKEN\"] = usertoken"
      ]
    },
    {
      "cell_type": "markdown",
      "metadata": {
        "id": "TTh7w8rgkznY"
      },
      "source": [
        "### **1.2. Projeto**"
      ]
    },
    {
      "cell_type": "markdown",
      "metadata": {
        "id": "clBerimQs2PY"
      },
      "source": [
        "Nesta etapa, vamos trazer o projeto do GitHub para máquina local."
      ]
    },
    {
      "cell_type": "code",
      "execution_count": null,
      "metadata": {
        "id": "fohdVuLzkdKP"
      },
      "outputs": [],
      "source": [
        "!git clone https://github.com/Raul-Lemelle/portifolio.git"
      ]
    },
    {
      "cell_type": "code",
      "execution_count": null,
      "metadata": {
        "id": "5-FAaAQXkdKP"
      },
      "outputs": [],
      "source": [
        "%cd /content/portifolio/"
      ]
    },
    {
      "cell_type": "markdown",
      "metadata": {
        "id": "waxn4B2UDHyl"
      },
      "source": [
        "---"
      ]
    },
    {
      "cell_type": "markdown",
      "metadata": {
        "id": "finLQoyyGVmk"
      },
      "source": [
        "## 2\\. Preço da gasolina"
      ]
    },
    {
      "cell_type": "markdown",
      "metadata": {
        "id": "7dJne-O92n2v"
      },
      "source": [
        "O código abaixo gera um arquivo com o preço médio de venda da gasolina na cidade de São Paulo nos 10 primeiros dias de Julho de 2021."
      ]
    },
    {
      "cell_type": "markdown",
      "metadata": {
        "id": "O_uRYGzqy8OV"
      },
      "source": [
        "> **Nota**: Este arquivo é o mesmo do exercício do módulo anterior."
      ]
    },
    {
      "cell_type": "code",
      "execution_count": null,
      "metadata": {
        "id": "Uhvy1LG31n1A"
      },
      "outputs": [],
      "source": [
        "%%writefile gasolina.csv\n",
        "dia,venda\n",
        "1,5.11\n",
        "2,4.99\n",
        "3,5.02\n",
        "4,5.21\n",
        "5,5.07\n",
        "6,5.09\n",
        "7,5.13\n",
        "8,5.12\n",
        "9,4.94\n",
        "10,5.03"
      ]
    },
    {
      "cell_type": "markdown",
      "metadata": {
        "id": "lcNhd195zE3t"
      },
      "source": [
        "### **2.1. Branch**"
      ]
    },
    {
      "cell_type": "markdown",
      "metadata": {
        "id": "vK0ZbC9ozG4m"
      },
      "source": [
        "Crie uma branch chamada `develop` e aponte o context do `git` para a nova branch. Vamos simular uma atualização no exercício do módulo anterior."
      ]
    },
    {
      "cell_type": "code",
      "execution_count": null,
      "metadata": {
        "id": "Hz6irIJszysS"
      },
      "outputs": [],
      "source": [
        "# código de criação da branch develop\n",
        "!git branch -a"
      ]
    },
    {
      "cell_type": "code",
      "execution_count": null,
      "metadata": {
        "id": "iPYVwILtrmV_"
      },
      "outputs": [],
      "source": [
        "!git checkout -b develop main"
      ]
    },
    {
      "cell_type": "code",
      "execution_count": null,
      "metadata": {
        "id": "uY3-FSi5ruzP"
      },
      "outputs": [],
      "source": [
        "!git branch -a"
      ]
    },
    {
      "cell_type": "markdown",
      "metadata": {
        "id": "eun0qdii21WO"
      },
      "source": [
        "### **2.2. Desenvolvimento**"
      ]
    },
    {
      "cell_type": "markdown",
      "metadata": {
        "id": "5MiknLIh2460"
      },
      "source": [
        "Gere uma gráfico de linha utilizando os dados do arquivo `gasolina.csv` com o dia no eixo `x`\n",
        " e o seu preço no eixo `y` utilizando os pacotes Python de sua preferência, como o Pandas e o Seaborn. Salve o gráfico no arquivo `gasolina.png` e o seu código Python de geração no arquivo `gasolina.py`."
      ]
    },
    {
      "cell_type": "markdown",
      "metadata": {
        "id": "8B3QgjlpzYdI"
      },
      "source": [
        "> **Nota**: Este gráfico deve alguns elementos diferente do anterior, como título, legenda, etc."
      ]
    },
    {
      "cell_type": "code",
      "execution_count": null,
      "metadata": {
        "colab": {
          "base_uri": "https://localhost:8080/",
          "height": 524
        },
        "id": "PPzewPcD3Z8n",
        "outputId": "d5198fba-bbfd-4fd4-fc0a-15c4e1ac3226"
      },
      "outputs": [
        {
          "name": "stderr",
          "output_type": "stream",
          "text": [
            "C:\\Users\\raull\\AppData\\Local\\Temp\\ipykernel_2372\\2083569559.py:9: UserWarning: Ignoring `palette` because no `hue` variable has been assigned.\n",
            "  grafico = sns.lineplot(data=tabela, x=\"dia\", y=\"venda\", palette=\"bright\")\n"
          ]
        },
        {
          "data": {
            "text/plain": [
              "<matplotlib.legend.Legend at 0x27fffe361e0>"
            ]
          },
          "execution_count": 8,
          "metadata": {},
          "output_type": "execute_result"
        },
        {
          "data": {
            "image/png": "[encoded data removed]",
            "text/plain": [
              "<Figure size 640x480 with 1 Axes>"
            ]
          },
          "metadata": {},
          "output_type": "display_data"
        }
      ],
      "source": [
        "# código de geração do gráfico\n",
        "import pandas as pd\n",
        "import seaborn as sns\n",
        "import matplotlib.pyplot as plt\n",
        "\n",
        "tabela = pd.read_csv(\"gasolina.csv\")\n",
        "\n",
        "with sns.axes_style('whitegrid'):\n",
        "  grafico = sns.lineplot(data=tabela, x=\"dia\", y=\"venda\", palette=\"bright\")\n",
        "  grafico.set(title='Preço médio da Gasolina em SP - Julho/21', xlabel='Dia', ylabel='Preço médio (R$)');\n",
        "\n",
        "grafico.legend([\"Vendas\"], loc='upper right', bbox_to_anchor=(1.1, 1))"
      ]
    },
    {
      "cell_type": "code",
      "execution_count": null,
      "metadata": {
        "id": "bX6BzA1pu0wO"
      },
      "outputs": [],
      "source": [
        "grafico.figure.savefig(\"gasolina.png\")"
      ]
    },
    {
      "cell_type": "code",
      "execution_count": null,
      "metadata": {
        "id": "oN0ZrQ_QvBDG"
      },
      "outputs": [],
      "source": [
        "# criar arquivo e depois colar o código da geração do gráfico\n",
        "%%writefile gasolina.py\n"
      ]
    },
    {
      "cell_type": "markdown",
      "metadata": {
        "id": "T51dv46X3YoT"
      },
      "source": [
        "### **2.3. Git**"
      ]
    },
    {
      "cell_type": "markdown",
      "metadata": {
        "id": "iyb6rFFX3YoU"
      },
      "source": [
        "Utilizando os comandos do `git`, adicione e \"commite\" os arquivos gerados (base, código Python e gráfico) na branch `develop`."
      ]
    },
    {
      "cell_type": "code",
      "execution_count": null,
      "metadata": {
        "id": "tRAunRfR4RfG"
      },
      "outputs": [],
      "source": [
        "# comandos git para adicionar e commitar os arquivos\n",
        "!git status"
      ]
    },
    {
      "cell_type": "code",
      "execution_count": null,
      "metadata": {
        "id": "Z4OM3kND5agE"
      },
      "outputs": [],
      "source": [
        "!git add ."
      ]
    },
    {
      "cell_type": "code",
      "execution_count": null,
      "metadata": {
        "id": "HFV-ImLp5agE"
      },
      "outputs": [],
      "source": [
        "!git status"
      ]
    },
    {
      "cell_type": "code",
      "execution_count": null,
      "metadata": {
        "id": "S1VkYiej5agE"
      },
      "outputs": [],
      "source": [
        "!git commit -m \"atualização dos arquivos\""
      ]
    },
    {
      "cell_type": "markdown",
      "metadata": {
        "id": "ozAPHQJu4P00"
      },
      "source": [
        "### **2.4. Github**"
      ]
    },
    {
      "cell_type": "markdown",
      "metadata": {
        "id": "2JkFXRdW4P01"
      },
      "source": [
        "Utilizando os comandos do `git`, envie o seu commit para o GitHub."
      ]
    },
    {
      "cell_type": "code",
      "execution_count": null,
      "metadata": {
        "id": "EqFtB47A5agE"
      },
      "outputs": [],
      "source": [
        "# comandos git para enviar o commit para o GitHub\n",
        "!git push origin develop"
      ]
    },
    {
      "cell_type": "markdown",
      "metadata": {
        "id": "fM_de4pA0D54"
      },
      "source": [
        "### **2.5. Pull Request e Merge**"
      ]
    },
    {
      "cell_type": "markdown",
      "metadata": {
        "id": "w9byTlNc0D55"
      },
      "source": [
        "No GitHub, crie um *pull request* (PR) para enviar o código da branch de `develop` para a branch `main`. Ainda na plataforma online, confira as atualizações, aprove o PR e realize o *merge*."
      ]
    },
    {
      "cell_type": "markdown",
      "metadata": {
        "id": "As3enQc2GVm1"
      },
      "source": [
        "---"
      ]
    }
  ],
  "metadata": {
    "colab": {
      "provenance": []
    },
    "kernelspec": {
      "display_name": "Python 3",
      "name": "python3"
    },
    "language_info": {
      "codemirror_mode": {
        "name": "ipython",
        "version": 3
      },
      "file_extension": ".py",
      "mimetype": "text/x-python",
      "name": "python",
      "nbconvert_exporter": "python",
      "pygments_lexer": "ipython3",
      "version": "3.12.1"
    }
  },
  "nbformat": 4,
  "nbformat_minor": 0
}