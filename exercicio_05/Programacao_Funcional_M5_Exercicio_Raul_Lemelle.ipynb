{
  "cells": [
    {
      "cell_type": "markdown",
      "metadata": {
        "id": "KJqp9AANOCtf"
      },
      "source": [
        "<img src=\"https://raw.githubusercontent.com/andre-marcos-perez/ebac-course-utils/main/media/logo/newebac_logo_black_half.png\" alt=\"ebac-logo\">\n",
        "\n",
        "---\n",
        "\n",
        "# **Módulo** | Python: Programação Funcional\n",
        "Caderno de **Exercícios**<br>\n",
        "Professor [André Perez](https://www.linkedin.com/in/andremarcosperez/)\n",
        "\n",
        "---"
      ]
    },
    {
      "cell_type": "markdown",
      "metadata": {
        "id": "d9jDtUbDOE1-"
      },
      "source": [
        "# **Tópicos**\n",
        "\n",
        "<ol type=\"1\">\n",
        "  <li>Função lambda;</li>\n",
        "  <li>Função map;</li>\n",
        "  <li>Função filter;</li>\n",
        "  <li>Função reduce.</li>\n",
        "</ol>"
      ]
    },
    {
      "cell_type": "markdown",
      "metadata": {
        "id": "SmoHgt-lwkpD"
      },
      "source": [
        "---"
      ]
    },
    {
      "cell_type": "markdown",
      "metadata": {
        "id": "GABI6OW8OfQ2"
      },
      "source": [
        "# **Exercícios**"
      ]
    },
    {
      "cell_type": "markdown",
      "metadata": {
        "id": "muD1vxozykSC"
      },
      "source": [
        "## 0\\. Preparação do ambiente"
      ]
    },
    {
      "cell_type": "markdown",
      "metadata": {
        "id": "ahrFfCuBxJKs"
      },
      "source": [
        "Neste exercício vamos trabalhar com o arquivo csv com dados de crédito, definido abaixo. Execute cada uma das células de código para escrever os arquivos na sua máquina virtual."
      ]
    },
    {
      "cell_type": "code",
      "execution_count": 2,
      "metadata": {
        "id": "Kjt3HvFX7C3A",
        "colab": {
          "base_uri": "https://localhost:8080/"
        },
        "outputId": "b7a629b7-7562-42c7-cdea-16b40ea5aa4d"
      },
      "outputs": [
        {
          "output_type": "stream",
          "name": "stdout",
          "text": [
            "Writing credito.csv\n"
          ]
        }
      ],
      "source": [
        "%%writefile credito.csv\n",
        "id_vendedor,valor_emprestimos,quantidade_emprestimos,data\n",
        "104271,448.0,1,20161208\n",
        "21476,826.7,3,20161208\n",
        "87440,313.6,3,20161208\n",
        "15980,-8008.0,6,20161208\n",
        "215906,2212.0,5,20161208\n",
        "33696,2771.3,2,20161208\n",
        "33893,2240.0,3,20161208\n",
        "214946,-4151.0,18,20161208\n",
        "123974,2021.95,2,20161208\n",
        "225870,4039.0,2,20161208"
      ]
    },
    {
      "cell_type": "markdown",
      "metadata": {
        "id": "tnhM9v2X7yGS"
      },
      "source": [
        "Vamos ler o conteúdo do arquivo em uma lista onde cada elemento é um dicionário representando as linhas do arquivo."
      ]
    },
    {
      "cell_type": "code",
      "execution_count": 3,
      "metadata": {
        "id": "T00Y_WIh7uPU"
      },
      "outputs": [],
      "source": [
        "emprestimos = []\n",
        "with open(file='./credito.csv', mode='r', encoding='utf8') as fp:\n",
        "  fp.readline() # cabeçalho\n",
        "  linha = fp.readline()\n",
        "  while linha:\n",
        "    linha_emprestimo = {}\n",
        "    linha_elementos = linha.strip().split(sep=',')\n",
        "    linha_emprestimo['id_vendedor'] = linha_elementos[0]\n",
        "    linha_emprestimo['valor_emprestimos'] = linha_elementos[1]\n",
        "    linha_emprestimo['quantidade_emprestimos'] = linha_elementos[2]\n",
        "    linha_emprestimo['data'] = linha_elementos[3]\n",
        "    emprestimos.append(linha_emprestimo)\n",
        "    linha = fp.readline()"
      ]
    },
    {
      "cell_type": "code",
      "execution_count": 4,
      "metadata": {
        "id": "Bp0ZgdTM84bw",
        "colab": {
          "base_uri": "https://localhost:8080/"
        },
        "outputId": "8bacaada-b5e6-4bfe-c6c8-92b9532a9aa0"
      },
      "outputs": [
        {
          "output_type": "stream",
          "name": "stdout",
          "text": [
            "{'id_vendedor': '104271', 'valor_emprestimos': '448.0', 'quantidade_emprestimos': '1', 'data': '20161208'}\n",
            "{'id_vendedor': '21476', 'valor_emprestimos': '826.7', 'quantidade_emprestimos': '3', 'data': '20161208'}\n",
            "{'id_vendedor': '87440', 'valor_emprestimos': '313.6', 'quantidade_emprestimos': '3', 'data': '20161208'}\n",
            "{'id_vendedor': '15980', 'valor_emprestimos': '-8008.0', 'quantidade_emprestimos': '6', 'data': '20161208'}\n",
            "{'id_vendedor': '215906', 'valor_emprestimos': '2212.0', 'quantidade_emprestimos': '5', 'data': '20161208'}\n",
            "{'id_vendedor': '33696', 'valor_emprestimos': '2771.3', 'quantidade_emprestimos': '2', 'data': '20161208'}\n",
            "{'id_vendedor': '33893', 'valor_emprestimos': '2240.0', 'quantidade_emprestimos': '3', 'data': '20161208'}\n",
            "{'id_vendedor': '214946', 'valor_emprestimos': '-4151.0', 'quantidade_emprestimos': '18', 'data': '20161208'}\n",
            "{'id_vendedor': '123974', 'valor_emprestimos': '2021.95', 'quantidade_emprestimos': '2', 'data': '20161208'}\n",
            "{'id_vendedor': '225870', 'valor_emprestimos': '4039.0', 'quantidade_emprestimos': '2', 'data': '20161208'}\n"
          ]
        }
      ],
      "source": [
        "for emprestimo in emprestimos:\n",
        "  print(emprestimo)"
      ]
    },
    {
      "cell_type": "markdown",
      "metadata": {
        "id": "KI9zQRT2xa7m"
      },
      "source": [
        "## 1\\. Função `map`\n",
        "\n"
      ]
    },
    {
      "cell_type": "markdown",
      "metadata": {
        "id": "U63MjM7H7o1Y"
      },
      "source": [
        "Aplique a função map na lista de `emprestimos` para extrair os valores da chave `valor_emprestimos` na lista `valor_emprestimos_lista`. Faça também a conversão de `str` para `float`."
      ]
    },
    {
      "cell_type": "code",
      "execution_count": 5,
      "metadata": {
        "id": "-yAW4PJh9h7a"
      },
      "outputs": [],
      "source": [
        "valor_emprestimos_lista = list(map(lambda valor_emprest: float(valor_emprest['valor_emprestimos']), emprestimos))"
      ]
    },
    {
      "cell_type": "code",
      "execution_count": 6,
      "metadata": {
        "id": "MQUvYdzJ9ndC",
        "colab": {
          "base_uri": "https://localhost:8080/"
        },
        "outputId": "5c63c949-0a75-46c0-ba04-499630cc7500"
      },
      "outputs": [
        {
          "output_type": "stream",
          "name": "stdout",
          "text": [
            "[448.0, 826.7, 313.6, -8008.0, 2212.0, 2771.3, 2240.0, -4151.0, 2021.95, 4039.0]\n"
          ]
        }
      ],
      "source": [
        "print(valor_emprestimos_lista) # [448.0, 826.7, ..., 4039.0]"
      ]
    },
    {
      "cell_type": "markdown",
      "metadata": {
        "id": "zMN1Q3jdwoJm"
      },
      "source": [
        "---"
      ]
    },
    {
      "cell_type": "markdown",
      "metadata": {
        "id": "WKHvMtFX_JKH"
      },
      "source": [
        "## 2\\. Função `filter`\n",
        "\n"
      ]
    },
    {
      "cell_type": "markdown",
      "metadata": {
        "id": "6V34N3Lf_gUM"
      },
      "source": [
        "Aplique a função filter na lista de `valor_emprestimos_lista` para filtrar apenas os valores maiores que zero (os valores negativas são erros na base de dados). Salve os valores na lista `valor_emprestimos_lista_filtrada`."
      ]
    },
    {
      "cell_type": "code",
      "execution_count": 7,
      "metadata": {
        "id": "3y7Vmm0yACuk"
      },
      "outputs": [],
      "source": [
        "valor_emprestimos_lista_filtrada = list(filter(lambda num: num > 0, valor_emprestimos_lista))"
      ]
    },
    {
      "cell_type": "code",
      "execution_count": 8,
      "metadata": {
        "id": "socxMS6NADsM",
        "colab": {
          "base_uri": "https://localhost:8080/"
        },
        "outputId": "011cfc78-e749-4197-bf65-dc3f802ab22f"
      },
      "outputs": [
        {
          "output_type": "stream",
          "name": "stdout",
          "text": [
            "[448.0, 826.7, 313.6, 2212.0, 2771.3, 2240.0, 2021.95, 4039.0]\n"
          ]
        }
      ],
      "source": [
        "print(valor_emprestimos_lista_filtrada) # [448.0, 826.7, ..., 4039.0]"
      ]
    },
    {
      "cell_type": "markdown",
      "metadata": {
        "id": "4yqCAVCo_Yp3"
      },
      "source": [
        "---"
      ]
    },
    {
      "cell_type": "markdown",
      "metadata": {
        "id": "s4TzfRxC_Yp4"
      },
      "source": [
        "## 3\\. Função `reduce`\n",
        "\n"
      ]
    },
    {
      "cell_type": "markdown",
      "metadata": {
        "id": "RwV4V7gDAWfJ"
      },
      "source": [
        "Com a nossa lista de valores de emprestimo pronta, vamos extrair algumas métricas."
      ]
    },
    {
      "cell_type": "markdown",
      "metadata": {
        "id": "zjXA6H0LAf1_"
      },
      "source": [
        "### 3\\.1\\. Função `reduce` para extrair a **soma**"
      ]
    },
    {
      "cell_type": "markdown",
      "metadata": {
        "id": "u1kxPpkUArKw"
      },
      "source": [
        "Aplique a função reduce para somar os elementos da lista `valor_emprestimos_lista_filtrada` na variavel `soma_valor_emprestimos`."
      ]
    },
    {
      "cell_type": "code",
      "execution_count": 9,
      "metadata": {
        "id": "ptAFEVpMAr6_"
      },
      "outputs": [],
      "source": [
        "from functools import reduce\n",
        "\n",
        "soma_valor_emprestimos = reduce(lambda x, y: x + y, valor_emprestimos_lista_filtrada)"
      ]
    },
    {
      "cell_type": "code",
      "execution_count": 10,
      "metadata": {
        "id": "fPosL2LZBDxz",
        "colab": {
          "base_uri": "https://localhost:8080/"
        },
        "outputId": "97abc68f-31aa-4c1e-d07c-631cdf0a93b0"
      },
      "outputs": [
        {
          "output_type": "stream",
          "name": "stdout",
          "text": [
            "14872.550000000001\n"
          ]
        }
      ],
      "source": [
        "print(soma_valor_emprestimos) # 14872.550000000001"
      ]
    },
    {
      "cell_type": "markdown",
      "metadata": {
        "id": "v8h9TkYqBLPn"
      },
      "source": [
        "### 3\\.2\\. Função `reduce` para extrair a **media aritimética**"
      ]
    },
    {
      "cell_type": "markdown",
      "metadata": {
        "id": "VXsNI53NBLPo"
      },
      "source": [
        "Aplique a função reduce para extrair a média aritimética (mais informações [aqui](https://pt.wikipedia.org/wiki/M%C3%A9dia#M%C3%A9dia_aritm%C3%A9tica)) dos elementos da lista `valor_emprestimos_lista_filtrada` na variavel `media_valor_emprestimos`.\n",
        "\n",
        "Dica: Para calcular o tamanho da lista, isto é a quantidade de elementos, utilize a função len(), dentro do argumento da função coloque a lista `valor_emprestimos_lista_filtrada`."
      ]
    },
    {
      "cell_type": "code",
      "execution_count": 11,
      "metadata": {
        "id": "qbWv8a2GBLPp"
      },
      "outputs": [],
      "source": [
        "from functools import reduce\n",
        "\n",
        "media_valor_emprestimos = reduce(lambda x, y: x + y, valor_emprestimos_lista_filtrada) / len(valor_emprestimos_lista_filtrada)"
      ]
    },
    {
      "cell_type": "code",
      "execution_count": 12,
      "metadata": {
        "id": "V-hh5hCKBLPr",
        "colab": {
          "base_uri": "https://localhost:8080/"
        },
        "outputId": "fb5c7859-1ea8-47ee-9062-929928b166e4"
      },
      "outputs": [
        {
          "output_type": "stream",
          "name": "stdout",
          "text": [
            "1859.0687500000001\n"
          ]
        }
      ],
      "source": [
        "print(media_valor_emprestimos) # 1859.0687500000001"
      ]
    },
    {
      "cell_type": "markdown",
      "metadata": {
        "id": "rCwM3DcJBeyB"
      },
      "source": [
        "### 3\\.3\\. (**Desafio**) Função `reduce` para extrair o **desvio padrão amostral**"
      ]
    },
    {
      "cell_type": "markdown",
      "metadata": {
        "id": "jw3azoT_BeyC"
      },
      "source": [
        "Aplique a função reduce para extrair a média aritimética (mais informações [aqui](https://pt.wikipedia.org/wiki/M%C3%A9dia#M%C3%A9dia_aritm%C3%A9tica)) dos elementos da lista `valor_emprestimos_lista_filtrada` na variavel `desvio_padrao_valor_emprestimos`.\n",
        "\n"
      ]
    },
    {
      "cell_type": "code",
      "execution_count": 16,
      "metadata": {
        "id": "3dDC-KRYBeyE",
        "colab": {
          "base_uri": "https://localhost:8080/"
        },
        "outputId": "e170b859-8b70-4d57-cac7-92f403deab7e"
      },
      "outputs": [
        {
          "output_type": "stream",
          "name": "stdout",
          "text": [
            "1271.9972711497849\n"
          ]
        }
      ],
      "source": [
        "print(desvio_padrao_valor_emprestimos) # 1271.997271149785"
      ]
    },
    {
      "cell_type": "code",
      "source": [
        "\"\"\"\n",
        "Segundo a definição de desvio padrão amostral, para calcular precisamos:\n",
        "Etapa 1: calcule a média\n",
        "Etapa 2: subtraia a média de cada nota.\n",
        "Etapa 3: eleve ao quadrado cada desvio.\n",
        "Etapa 4: some os desvios ao quadrado.\n",
        "Etapa 5: divida a soma pelo número de dados menos um.\n",
        "Etapa 6: calcule a raiz quadrada do resultado da etapa 5.\n",
        "\"\"\"\n",
        "# Segue abaixo o código.\n",
        "\n",
        "from functools import reduce\n",
        "\n",
        "def desvio_padrao_valor_emprestimos(lista):\n",
        "\n",
        "  media = reduce(lambda x, y: x + y, lista) / len(lista)\n",
        "  diferenca = list(map(lambda num: num - media, lista))\n",
        "  quadrado = list(map(lambda num: num**2, diferenca))\n",
        "  soma = sum(quadrado)\n",
        "  divisao = soma / (len(lista) - 1)\n",
        "  desvio_padrao_amostral = divisao **(1/2)\n",
        "\n",
        "  return desvio_padrao_amostral\n",
        "\n",
        "lista = valor_emprestimos_lista_filtrada\n",
        "desvio_padrao_valor_emprestimos = desvio_padrao_valor_emprestimos(lista)\n",
        "print(desvio_padrao_valor_emprestimos)"
      ],
      "metadata": {
        "colab": {
          "base_uri": "https://localhost:8080/"
        },
        "id": "Ccvk2Uv1apex",
        "outputId": "957bacc4-fca6-4f22-8732-0ebfe62e7dab"
      },
      "execution_count": 15,
      "outputs": [
        {
          "output_type": "stream",
          "name": "stdout",
          "text": [
            "1271.9972711497849\n"
          ]
        }
      ]
    },
    {
      "cell_type": "markdown",
      "metadata": {
        "id": "ai2mZYnG_b_s"
      },
      "source": [
        "---"
      ]
    }
  ],
  "metadata": {
    "colab": {
      "provenance": []
    },
    "kernelspec": {
      "display_name": "Python 3 (ipykernel)",
      "language": "python",
      "name": "python3"
    },
    "language_info": {
      "codemirror_mode": {
        "name": "ipython",
        "version": 3
      },
      "file_extension": ".py",
      "mimetype": "text/x-python",
      "name": "python",
      "nbconvert_exporter": "python",
      "pygments_lexer": "ipython3",
      "version": "3.9.7"
    }
  },
  "nbformat": 4,
  "nbformat_minor": 0
}