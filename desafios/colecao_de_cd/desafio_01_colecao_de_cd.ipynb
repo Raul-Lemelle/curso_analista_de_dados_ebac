{
  "nbformat": 4,
  "nbformat_minor": 0,
  "metadata": {
    "colab": {
      "provenance": []
    },
    "kernelspec": {
      "name": "python3",
      "display_name": "Python 3"
    },
    "language_info": {
      "name": "python"
    }
  },
  "cells": [
    {
      "cell_type": "code",
      "execution_count": null,
      "metadata": {
        "id": "gK6JTZfmDjoO"
      },
      "outputs": [],
      "source": [
        "#Faça um programa que calcule o valor total investido por um colecionador em sua coleção de CDs e o valor médio gasto em cada um deles.\n",
        "\n",
        "#O usuário deverá informar a quantidade de CDs e o valor para cada um.\n",
        "\n",
        "\n",
        "colecao_cd = {cd_1 : valor_do_cd_1, cd_2 : valor_do_cd_2} # Dicionário para relação cd e valor de cada unidade.\n",
        "\n",
        "def media_gasto_colecao_cd ()"
      ]
    },
    {
      "cell_type": "code",
      "source": [
        "# Iniacialmente teremos um arquivo .csv, com as informações dos Cd e o preço.\n",
        "# Hipotéticamente criaremos o arquivo abaixo para teste.\n",
        "%%writefile colecao_cd.csv\n",
        "Titulo,Preço\n",
        "cd 1,10\n",
        "cd 2,25\n",
        "cd 3,45\n",
        "cd 4,20\n",
        "cd 5,55\n",
        "cd 6,15\n",
        "cd 7,22\n",
        "cd 8,17\n",
        "cd 9,11\n",
        "cd 10,60"
      ],
      "metadata": {
        "id": "RIwQwgZjGbv8"
      },
      "execution_count": null,
      "outputs": []
    },
    {
      "cell_type": "code",
      "source": [
        "def extrai_coluna_csv(nome_arquivo: str, indice_coluna: int):\n",
        "\n",
        "  coluna = []\n",
        "\n",
        "  with open(file=nome_arquivo, mode='r', encoding='utf8') as fp: # leitura do arquivo csv\n",
        "    line = fp.readline() # lê o cabeçalho\n",
        "    line = fp.readline() # lê a primeira linha\n",
        "    while line:\n",
        "        line_sep = line.split(sep=',') # quebra a string nas virgulas e salva os resultados em uma lista\n",
        "        coluna_line = line_sep[indice_coluna] # seleciona a coluna conforme indice_coluna desejada\n",
        "        coluna.append(coluna_line) # salva o valor na lista de coluna\n",
        "        line = fp.readline() # # lê uma nova linha, se a linha não existir, salva o valor None\n",
        "\n",
        "  return coluna"
      ],
      "metadata": {
        "id": "-cqmdRmYH1Ek"
      },
      "execution_count": 3,
      "outputs": []
    },
    {
      "cell_type": "code",
      "source": [
        "# Valor total investido na coleção.\n",
        "# Chamamos a função extrai_coluna_csv, e tranformamos cada item da lista em \"int\" para realizar a soma total.\n",
        "valor_total_investido = sum([int(numero.strip()) for numero in (extrai_coluna_csv(nome_arquivo='./colecao_cd.csv', indice_coluna=1))])\n",
        "\n",
        "print(valor_total_investido)"
      ],
      "metadata": {
        "colab": {
          "base_uri": "https://localhost:8080/"
        },
        "id": "muq6ko7MMPaT",
        "outputId": "c6a0b17e-2db2-4e3d-c4b0-1f865cddd85d"
      },
      "execution_count": 19,
      "outputs": [
        {
          "output_type": "stream",
          "name": "stdout",
          "text": [
            "280\n"
          ]
        }
      ]
    },
    {
      "cell_type": "code",
      "source": [
        "# Média do valor gasto por cd.\n",
        "# Chamamos a função extrai_coluna_csv, e tranformamos cada item da lista em \"int\" para realizar a soma total / tamanho da lista.\n",
        "media_por_cd = sum([int(numero.strip()) for numero in (extrai_coluna_csv(nome_arquivo='./colecao_cd.csv', indice_coluna=1))]) / len([int(numero.strip()) for numero in (extrai_coluna_csv(nome_arquivo='./colecao_cd.csv', indice_coluna=1))])\n",
        "print(media_por_cd)"
      ],
      "metadata": {
        "colab": {
          "base_uri": "https://localhost:8080/"
        },
        "id": "20bmlhTkKSWI",
        "outputId": "997d9d7c-bafc-4e39-df96-aad2b330f141"
      },
      "execution_count": 21,
      "outputs": [
        {
          "output_type": "stream",
          "name": "stdout",
          "text": [
            "28.0\n"
          ]
        }
      ]
    },
    {
      "cell_type": "markdown",
      "source": [
        "RESOLVIDO GABARITO ABAIXO"
      ],
      "metadata": {
        "id": "SoTMrC3Xa8pd"
      }
    },
    {
      "cell_type": "code",
      "source": [
        "cds = int(input(\"Digite a quantidade de CDs: \"))\n",
        "\n",
        "preco = 0\n",
        "\n",
        "for i in range(cds):\n",
        "\n",
        "    preco += float(input(f\"Digite o preço do CD {i+1}: \"))\n",
        "\n",
        "print(f\"Preço total: R${preco:.2f}\\nMédia de custo por CD: R${preco/cds:.2f}\")"
      ],
      "metadata": {
        "colab": {
          "base_uri": "https://localhost:8080/"
        },
        "id": "_D2XHMNPaLpV",
        "outputId": "2854b678-66ff-4eda-faa3-8fe137db0baa"
      },
      "execution_count": 22,
      "outputs": [
        {
          "output_type": "stream",
          "name": "stdout",
          "text": [
            "Digite a quantidade de CDs: 10\n",
            "Digite o preço do CD 1: 10\n",
            "Digite o preço do CD 2: 20\n",
            "Digite o preço do CD 3: 30\n",
            "Digite o preço do CD 4: 40\n",
            "Digite o preço do CD 5: 50\n",
            "Digite o preço do CD 6: 60\n",
            "Digite o preço do CD 7: 70\n",
            "Digite o preço do CD 8: 80\n",
            "Digite o preço do CD 9: 90\n",
            "Digite o preço do CD 10: 100\n",
            "Preço total: R$550.00\n",
            "Média de custo por CD: R$55.00\n"
          ]
        }
      ]
    }
  ]
}