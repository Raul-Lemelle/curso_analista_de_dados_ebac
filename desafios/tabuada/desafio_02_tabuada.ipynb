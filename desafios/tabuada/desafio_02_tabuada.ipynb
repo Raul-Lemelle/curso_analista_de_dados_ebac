{
  "nbformat": 4,
  "nbformat_minor": 0,
  "metadata": {
    "colab": {
      "provenance": []
    },
    "kernelspec": {
      "name": "python3",
      "display_name": "Python 3"
    },
    "language_info": {
      "name": "python"
    }
  },
  "cells": [
    {
      "cell_type": "markdown",
      "source": [
        "Desenvolva um gerador de tabuada, capaz de gerar a tabuada de qualquer número inteiro entre 1 a 10. O usuário deve informar de qual número ele deseja ver a tabuada.\n",
        "\n",
        "Lembre-se de que você já conhece o nível intermediário da linguagem de programação Python, além de conhecer como automatizar dados por meio da programação funcional e programação orientada a objetos."
      ],
      "metadata": {
        "id": "0yKxzx7M4gZe"
      }
    },
    {
      "cell_type": "code",
      "source": [
        "def gerar_tabuada(numero):\n",
        "    print(f\"Tabuada do {numero}:\")\n",
        "    for i in range(1, 11):\n",
        "        resultado = numero * i\n",
        "        print(f\"{numero} x {i} = {resultado}\")\n",
        "\n",
        "# Solicitar ao usuário o número para gerar a tabuada\n",
        "while True:\n",
        "    try:\n",
        "        numero_usuario = int(input(\"Digite um número entre 1 e 10 para gerar a tabuada: \"))\n",
        "        if 1 <= numero_usuario <= 10:\n",
        "            gerar_tabuada(numero_usuario)\n",
        "            break\n",
        "        else:\n",
        "            print(\"Por favor, escolha um número entre 1 e 10.\")\n",
        "    except ValueError:\n",
        "        print(\"Por favor, digite um número inteiro válido.\")"
      ],
      "metadata": {
        "id": "a7HRvjaJIl0j"
      },
      "execution_count": null,
      "outputs": []
    }
  ]
}