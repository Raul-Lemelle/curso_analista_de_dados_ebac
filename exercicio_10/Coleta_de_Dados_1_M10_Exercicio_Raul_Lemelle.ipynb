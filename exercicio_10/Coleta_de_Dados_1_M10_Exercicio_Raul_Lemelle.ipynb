{
  "nbformat": 4,
  "nbformat_minor": 0,
  "metadata": {
    "colab": {
      "provenance": []
    },
    "kernelspec": {
      "name": "python3",
      "display_name": "Python 3"
    }
  },
  "cells": [
    {
      "cell_type": "markdown",
      "metadata": {
        "id": "KJqp9AANOCtf"
      },
      "source": [
        "<img src=\"https://raw.githubusercontent.com/andre-marcos-perez/ebac-course-utils/main/media/logo/newebac_logo_black_half.png\" alt=\"ebac-logo\">\n",
        "\n",
        "---\n",
        "\n",
        "# **Módulo** | Análise de Dados: Coleta de Dados I\n",
        "Caderno de **Exercícios**<br>\n",
        "Professor [André Perez](https://www.linkedin.com/in/andremarcosperez/)\n",
        "\n",
        "---"
      ]
    },
    {
      "cell_type": "markdown",
      "metadata": {
        "id": "d9jDtUbDOE1-"
      },
      "source": [
        "# **Tópicos**\n",
        "\n",
        "<ol type=\"1\">\n",
        "  <li>Arquivos CSV;</li>\n",
        "  <li>Arquivos Texto;</li>\n",
        "  <li>Arquivos Excel.</li>\n",
        "</ol>"
      ]
    },
    {
      "cell_type": "markdown",
      "metadata": {
        "id": "SmoHgt-lwkpD"
      },
      "source": [
        "---"
      ]
    },
    {
      "cell_type": "markdown",
      "metadata": {
        "id": "GABI6OW8OfQ2"
      },
      "source": [
        "# **Exercícios**"
      ]
    },
    {
      "cell_type": "markdown",
      "metadata": {
        "id": "muD1vxozykSC"
      },
      "source": [
        "## 0\\. Preparando o ambiente"
      ]
    },
    {
      "cell_type": "markdown",
      "metadata": {
        "id": "ByX7SUjNKk2K"
      },
      "source": [
        "Vamos explorar dados de crédito presentes no arquivo `credito.xlsx` ([link](https://raw.githubusercontent.com/andre-marcos-perez/ebac-course-utils/develop/dataset/credito.xlsx)). Os dados estão no formato de **Excel** (XLSX) e contém informações sobre clientes de uma instituição financeira. Em especial, estamos interessados em explicar a segunda coluna, chamada de **default**, que indica se um cliente é adimplente (`default = 0`), ou inadimplente (`default = 1`), ou seja, queremos entender o porque um cliente deixa de honrar com suas dívidas baseado no comportamento de outros atributos, como salário, escolaridade e movimentação financeira. Uma descrição completa dos atributos está abaixo."
      ]
    },
    {
      "cell_type": "markdown",
      "metadata": {
        "id": "Z5Fd0NSVLnwE"
      },
      "source": [
        "\n",
        "\n",
        "| Coluna  | Descrição |\n",
        "| ------- | --------- |\n",
        "| id      | Número da conta |\n",
        "| default | Indica se o cliente é adimplente (0) ou inadimplente (1) |\n",
        "| idade   | --- |\n",
        "| sexo    | --- |\n",
        "| depedentes | --- |\n",
        "| escolaridade | --- |\n",
        "| estado_civil | --- |\n",
        "| salario_anual | Faixa do salario mensal multiplicado por 12 |\n",
        "| tipo_cartao | Categoria do cartao: blue, silver, gold e platinium |\n",
        "| meses_de_relacionamento | Quantidade de meses desde a abertura da conta |\n",
        "| qtd_produtos | Quantidade de produtos contratados |\n",
        "| iteracoes_12m | Quantidade de iteracoes com o cliente no último ano |\n",
        "| meses_inatico_12m | Quantidade de meses que o cliente ficou inativo no último ano |\n",
        "| limite_credito | Valor do limite do cartão de crédito |\n",
        "| valor_transacoes_12m | Soma total do valor das transações no cartão de crédito no último ano |\n",
        "| qtd_transacoes_12m | Quantidade total de transações no cartão de crédito no último ano |\n",
        "\n"
      ]
    },
    {
      "cell_type": "markdown",
      "metadata": {
        "id": "peEbZE2vcMaH"
      },
      "source": [
        "Faça o download do arquivo `credito.xlsx` com a célula de código abaixo."
      ]
    },
    {
      "cell_type": "code",
      "metadata": {
        "id": "hyG8xFuWc16L",
        "colab": {
          "base_uri": "https://localhost:8080/"
        },
        "outputId": "3c5170fe-474a-4ece-9cd5-51fe4de4bc06"
      },
      "source": [
        "!wget --show-progress --continue -O ./credito.xlsx https://raw.githubusercontent.com/andre-marcos-perez/ebac-course-utils/main/dataset/credito.xlsx"
      ],
      "execution_count": 1,
      "outputs": [
        {
          "output_type": "stream",
          "name": "stdout",
          "text": [
            "--2023-12-20 15:11:43--  https://raw.githubusercontent.com/andre-marcos-perez/ebac-course-utils/main/dataset/credito.xlsx\n",
            "Resolving raw.githubusercontent.com (raw.githubusercontent.com)... 185.199.108.133, 185.199.109.133, 185.199.110.133, ...\n",
            "Connecting to raw.githubusercontent.com (raw.githubusercontent.com)|185.199.108.133|:443... connected.\n",
            "HTTP request sent, awaiting response... 200 OK\n",
            "Length: 748185 (731K) [application/octet-stream]\n",
            "Saving to: ‘./credito.xlsx’\n",
            "\n",
            "./credito.xlsx      100%[===================>] 730.65K  --.-KB/s    in 0.05s   \n",
            "\n",
            "2023-12-20 15:11:43 (14.0 MB/s) - ‘./credito.xlsx’ saved [748185/748185]\n",
            "\n"
          ]
        }
      ]
    },
    {
      "cell_type": "markdown",
      "metadata": {
        "id": "zMN1Q3jdwoJm"
      },
      "source": [
        "---"
      ]
    },
    {
      "cell_type": "markdown",
      "metadata": {
        "id": "GWgNoJN8DHyY"
      },
      "source": [
        "## 1\\. Excel para CSV"
      ]
    },
    {
      "cell_type": "markdown",
      "metadata": {
        "id": "YynK1vf2DHyj"
      },
      "source": [
        "Utilizando o pacote Python `openpyxl` visto em aula, extraia os seguintes as colunas `id`, `sexo` e `idade` para dos clientes inadimplentes (`default = 1`) e solteiros (`estado_civil = 'solteiro'`). Salves os dados extraídos no arquivo csv `credito.csv` separado por `;`. Exemplo do cabeçalho e das três primeiras linhas:\n",
        "\n",
        "```\n",
        "id;sexo;idade\n",
        "767712558;59;M\n",
        "713741358;46;M\n",
        "772390908;59;M\n",
        "```\n",
        "\n",
        "**Dica:** O arquivo csv `credito.csv` deve ter 669 linhas, contando com o cabeçalho.\n",
        "\n",
        "**Nota:** Escreva o código da sua solução abaixo em uma ou mais células, você não precisa enviar o arquivo csv gerado."
      ]
    },
    {
      "cell_type": "code",
      "source": [
        "# solução do exercício 1\n",
        "\n",
        "import csv # Pacote que usaremos para salvar csv.\n",
        "from openpyxl import load_workbook # Pacote para trabalhar com planilhas.\n",
        "\n",
        "class EstudoCaso(object): # Classe para gerar funções com o parâmetros do nosso caso.\n",
        "  def __init__(self, arquivo: str):\n",
        "    self.planilhas = load_workbook(filename='credito.xlsx') # Abertura do arquivo xlsx.\n",
        "    self.planilha = self.planilhas.active # Primeira planilha do arquivo \"ativada\".\n",
        "\n",
        "  def estudo_1(self, indice_1: str): # Função com o parâmetro que será indicado para o caso.\n",
        "    dado_extraido = [] # Variável com a lista vazia para receber nossos dados extraidos.\n",
        "\n",
        "    cabecalho = next(self.planilha.values) # Leitura da 1ª linha.\n",
        "    index_indice_1 = cabecalho.index(indice_1) # Encontrar a posição do indice_1 na lista cabecalho.\n",
        "    index_default = cabecalho.index('default') # Encontrar a posição do 'default' na lista cabecalho.\n",
        "    index_estado_civil = cabecalho.index('estado_civil') # Encontrar a posição do 'estado_civil' na lista cabecalho.\n",
        "    # Abaixo será a extração em toda planilha dos elementos do indice_1 que contenham default = 1, estado_civil = solteiro, excluindo o nome da coluna do indice_1.\n",
        "    dado_extraido = [linha[index_indice_1] for linha in planilha.values if (\n",
        "        (linha[index_indice_1] != indice_1) and\n",
        "        (linha[index_default] == 1) and\n",
        "        (linha[index_estado_civil] == 'solteiro')\n",
        "    )]\n",
        "\n",
        "    return dado_extraido\n",
        "\n",
        "  def salvar_csv_estudo_1(self, nome_arquivo: str, dados: list):\n",
        "    with open(nome_arquivo, mode='w', encoding='utf8') as fp: # Abertura do novo arquivo no modo de escrita.\n",
        "      escritor_csv = csv.writer(fp, delimiter=';') # Escrever os dados com limitador ;.\n",
        "      escritor_csv.writerows(dados)  # Escreve os dados lista."
      ],
      "metadata": {
        "id": "8n8MZh_0DTIr"
      },
      "execution_count": 42,
      "outputs": []
    },
    {
      "cell_type": "code",
      "source": [
        "dados_extraidos = EstudoCaso(arquivo='credito.xlsx')\n",
        "\n",
        "indice_1 = 'id'\n",
        "id_dados_extraidos = dados_extraidos.estudo_1(indice_1=indice_1)\n",
        "print(id_dados_extraidos)\n",
        "\n",
        "indice_1 = 'sexo'\n",
        "sexo_dados_extraidos = dados_extraidos.estudo_1(indice_1=indice_1)\n",
        "print(sexo_dados_extraidos)\n",
        "\n",
        "indice_1 = 'idade'\n",
        "idade_dados_extraidos = dados_extraidos.estudo_1(indice_1=indice_1)\n",
        "print(idade_dados_extraidos)"
      ],
      "metadata": {
        "colab": {
          "base_uri": "https://localhost:8080/"
        },
        "id": "ptIYATecN8gt",
        "outputId": "96535618-e418-4d58-f61a-b383e63a1194"
      },
      "execution_count": 43,
      "outputs": [
        {
          "output_type": "stream",
          "name": "stdout",
          "text": [
            "[767712558, 713741358, 772390908, 719211558, 709547658, 711791583, 712315683, 714272658, 767294658, 708241233, 716223708, 719443683, 711242058, 720605808, 719309958, 808897683, 716991933, 712373208, 708455883, 711147483, 720426708, 708983658, 721249158, 713845083, 712240083, 720007383, 739594758, 712924383, 714983283, 809951133, 720141408, 712196508, 713206683, 778388358, 709707033, 711772008, 821179233, 813752433, 708083283, 806407308, 758583708, 778708533, 713259858, 790145733, 804668658, 819610908, 808273533, 716382708, 711357858, 711816108, 789777408, 720427683, 717930483, 715651833, 715517733, 713021208, 713104458, 715366083, 787463508, 778381608, 710586483, 709785783, 717813558, 719470458, 789963033, 709413933, 709206333, 821149008, 772273983, 709163358, 827476983, 708563433, 738627708, 828291858, 720725058, 711935283, 720508233, 716387733, 720758808, 813053733, 720529308, 710278458, 807593058, 788030208, 720983733, 710654808, 709224033, 817889583, 716306583, 721233033, 779502333, 709297608, 817977933, 711538758, 719987733, 789713208, 772137183, 821768658, 812449758, 815085708, 718197108, 708733983, 711205758, 716425833, 815851233, 718877883, 822955008, 827117808, 709321908, 772466508, 737921733, 709435533, 719168883, 714212358, 721104708, 717461283, 803028858, 712751133, 719770158, 716271183, 816261858, 721308033, 711012783, 712235433, 714377058, 718735908, 804833058, 709560258, 720362058, 719602908, 709713033, 708633783, 781306758, 712294083, 718220358, 712656783, 738899658, 714727833, 720598308, 717592758, 708687483, 721451208, 718342158, 716654808, 716564433, 716022258, 811527933, 714972558, 709709283, 780105483, 715294083, 772695033, 780006783, 771342183, 712901283, 718473558, 717368208, 772341783, 715409733, 709338633, 711245433, 708801108, 789382758, 721437333, 711626658, 717793983, 714119283, 799239033, 794707083, 787921383, 715405758, 718515483, 715664808, 716317458, 717035283, 803113383, 713788083, 780067158, 809599158, 709798908, 821749608, 709444983, 709563258, 712257258, 710812533, 715987758, 717103758, 721365033, 712267983, 802243458, 720784833, 721448283, 718766058, 708798483, 803800533, 709488108, 819647358, 789502308, 712038258, 712864683, 755467683, 714479358, 712807758, 824140908, 720444408, 709170108, 716056158, 715406658, 716625033, 716782758, 708797583, 711100608, 768624258, 719174433, 714346608, 823904133, 711646908, 770024733, 708702258, 720519333, 719564208, 798041508, 780201633, 712777233, 712706058, 717448383, 709161108, 714089658, 714915633, 794273283, 788838033, 714084483, 771795933, 804829533, 812411058, 715609533, 779130108, 716922633, 780496833, 789081408, 823615983, 713370033, 719751483, 780038058, 712563408, 778601733, 720044658, 716668308, 714058308, 713114133, 709495833, 708681708, 711468708, 821724483, 709112508, 719325783, 713980383, 715194183, 780292683, 711116133, 713096583, 756025233, 711977508, 710666583, 717336408, 821889858, 710661333, 710570058, 802247658, 713590158, 718508883, 716107158, 720234708, 716136333, 708154833, 788941983, 787974108, 710729358, 717477783, 789942033, 717949008, 713334483, 713025558, 809565183, 711151383, 718812708, 709505808, 714634983, 709005633, 713952558, 817332483, 720930633, 710136258, 713526258, 708692583, 713815383, 717450633, 717646983, 768632958, 712110333, 712479633, 713314533, 755996583, 769053033, 714581358, 772394883, 709729533, 714102183, 715410783, 755661933, 716669658, 802673508, 721032633, 714192933, 718975083, 710116833, 815908908, 712927383, 708708858, 771723408, 713569158, 714010383, 708412758, 713158083, 720010608, 711939558, 716924958, 819943458, 772073508, 711801933, 816378033, 717202083, 711507783, 716856408, 719742108, 717208833, 713463708, 812406183, 720270633, 718653333, 711724083, 713422083, 794507133, 767266758, 713594883, 714962658, 717429258, 713336883, 714475908, 714948858, 714188883, 708536283, 718826883, 815504583, 713804883, 721124658, 720815208, 798972183, 789880533, 711221958, 712092783, 708726708, 712767858, 712445583, 713891133, 712953483, 779029458, 720130233, 718279008, 814091058, 710555433, 779931783, 712611108, 708316008, 711846183, 720612333, 711474333, 714014733, 712733958, 714960408, 717219933, 719986758, 806140383, 751518633, 818459733, 810271083, 753365883, 809440008, 718913358, 769883733, 711122958, 709100283, 709064208, 717255333, 719516208, 766021083, 719756133, 717072108, 721460283, 772528158, 771638733, 814765533, 712161858, 708376983, 779348358, 817108083, 713474733, 719098308, 712327608, 809616108, 767553333, 713583408, 815539233, 720872433, 715530258, 708976908, 708186933, 713512308, 711201108, 714887808, 709714008, 712307283, 779848383, 717371583, 715304958, 789095958, 714213708, 713597658, 713953383, 716510658, 714408933, 710500983, 717666783, 720731808, 715919283, 712998033, 716697708, 779302233, 720824883, 710438358, 713717283, 713822208, 718230933, 711637458, 718090233, 711669258, 778207083, 712130058, 778378983, 712448658, 720590058, 719981508, 720766908, 719512983, 720719883, 793630083, 712900308, 720761208, 788794758, 711150333, 713373708, 712664658, 711873033, 712715208, 778899708, 771865908, 715162608, 797150733, 717489033, 713748708, 717409533, 711800658, 720401658, 720961383, 711691608, 708266883, 711102858, 711722808, 714848958, 719305608, 720190083, 719449533, 713027058, 719821908, 712378983, 717502083, 709102458, 807946833, 717146208, 712660308, 712144158, 824560758, 708190158, 772271508, 711412533, 778191933, 718152333, 785285883, 715773783, 712747758, 750995508, 709222008, 721426383, 708416433, 779183958, 767404083, 796083783, 778441533, 708885558, 719759733, 822170733, 772286658, 720460083, 717874533, 712136058, 714276408, 711232608, 721274208, 802668333, 789312033, 713425383, 708419733, 716329383, 715327683, 718958583, 712075083, 811700058, 720164358, 711325308, 720891633, 769152783, 779315508, 789560433, 771097683, 780450708, 720939933, 716212383, 757667133, 714938733, 716199408, 790051758, 807393558, 711167808, 793608258, 713003358, 711742758, 711332883, 719071158, 719714658, 716858433, 710958933, 720698883, 714190983, 742865883, 798553158, 711613308, 718558758, 813804783, 718732833, 820666083, 712044558, 713131158, 709319658, 710161083, 715799808, 718458858, 715630983, 712768983, 717529233, 711794358, 716260833, 719694408, 716863458, 766821033, 714615258, 710455608, 713514633, 716124408, 800758233, 709259958, 770220558, 709075533, 714361083, 709928358, 712265508, 715051608, 712895733, 719629308, 754443033, 720512433, 710878308, 712010358, 711432258, 708354858, 719767683, 713269533, 789684258, 769396158, 716717733, 715113933, 715714458, 769667583, 715645908, 778643733, 710980383, 709971708, 720565458, 715496058, 718297683, 719118708, 826245858, 711746133, 708496833, 710155983, 713318733, 712441308, 711161133, 717457008, 712841883, 719582058, 780511683, 753220383, 720827133, 716721483, 710527533, 709996833, 714022833, 711156858, 708319908, 714082308, 714820158, 713347608, 718080558, 713880633, 710639658, 718665033, 771561183, 712036383, 708821733, 710751033, 710679933, 717174558, 714543633, 713668158, 709249083, 710081208, 710047533, 712766208, 715150983, 714919308, 709660233, 712509108, 711745233, 712457208, 714945708, 718840833, 709566408, 789497283, 714677583, 720128658, 770038983, 714684108, 779134458, 710066133, 713281833, 716644008, 713924283, 716893683]\n",
            "['M', 'M', 'M', 'M', 'M', 'F', 'F', 'F', 'M', 'F', 'F', 'M', 'M', 'F', 'M', 'M', 'F', 'M', 'M', 'F', 'M', 'M', 'M', 'F', 'F', 'F', 'F', 'M', 'F', 'M', 'F', 'F', 'M', 'M', 'M', 'F', 'F', 'F', 'M', 'F', 'F', 'F', 'M', 'M', 'F', 'M', 'M', 'F', 'F', 'M', 'F', 'M', 'M', 'M', 'F', 'F', 'M', 'F', 'M', 'M', 'F', 'F', 'F', 'M', 'F', 'M', 'F', 'M', 'M', 'M', 'F', 'F', 'F', 'M', 'F', 'M', 'M', 'M', 'M', 'M', 'M', 'M', 'F', 'F', 'M', 'M', 'M', 'F', 'M', 'M', 'M', 'M', 'F', 'M', 'F', 'F', 'M', 'M', 'M', 'F', 'M', 'F', 'M', 'M', 'M', 'F', 'M', 'M', 'M', 'M', 'F', 'F', 'F', 'F', 'F', 'F', 'F', 'M', 'F', 'F', 'M', 'F', 'M', 'F', 'F', 'M', 'M', 'F', 'M', 'F', 'M', 'M', 'M', 'F', 'M', 'M', 'F', 'F', 'M', 'F', 'F', 'M', 'F', 'M', 'F', 'F', 'F', 'F', 'M', 'F', 'M', 'M', 'M', 'F', 'F', 'F', 'M', 'F', 'F', 'F', 'F', 'F', 'M', 'M', 'F', 'M', 'F', 'F', 'M', 'M', 'F', 'M', 'M', 'F', 'M', 'F', 'F', 'F', 'M', 'F', 'M', 'F', 'F', 'F', 'F', 'M', 'M', 'M', 'F', 'M', 'F', 'F', 'M', 'F', 'M', 'M', 'M', 'F', 'M', 'F', 'F', 'M', 'F', 'M', 'F', 'F', 'M', 'F', 'F', 'M', 'F', 'M', 'F', 'F', 'F', 'F', 'M', 'F', 'F', 'F', 'F', 'F', 'F', 'M', 'F', 'M', 'M', 'M', 'M', 'M', 'M', 'F', 'M', 'M', 'F', 'F', 'F', 'M', 'F', 'F', 'M', 'F', 'F', 'F', 'M', 'F', 'M', 'F', 'F', 'F', 'F', 'F', 'F', 'M', 'F', 'M', 'F', 'F', 'M', 'F', 'F', 'F', 'F', 'F', 'F', 'F', 'F', 'F', 'M', 'M', 'F', 'F', 'M', 'F', 'F', 'F', 'F', 'F', 'F', 'M', 'F', 'M', 'F', 'F', 'F', 'M', 'F', 'F', 'M', 'F', 'M', 'F', 'F', 'M', 'F', 'M', 'M', 'F', 'F', 'F', 'F', 'M', 'F', 'F', 'F', 'F', 'M', 'M', 'F', 'F', 'F', 'M', 'F', 'F', 'F', 'F', 'F', 'F', 'F', 'F', 'F', 'F', 'F', 'M', 'M', 'F', 'F', 'M', 'F', 'F', 'M', 'M', 'F', 'F', 'F', 'F', 'F', 'F', 'F', 'F', 'F', 'F', 'F', 'F', 'F', 'M', 'F', 'F', 'M', 'F', 'F', 'M', 'M', 'F', 'F', 'M', 'M', 'F', 'F', 'F', 'F', 'F', 'F', 'F', 'F', 'F', 'F', 'M', 'M', 'F', 'F', 'M', 'F', 'F', 'F', 'F', 'F', 'M', 'F', 'F', 'F', 'F', 'M', 'M', 'M', 'F', 'F', 'F', 'M', 'M', 'F', 'F', 'F', 'M', 'M', 'F', 'M', 'F', 'F', 'F', 'M', 'F', 'F', 'F', 'F', 'M', 'M', 'F', 'F', 'F', 'M', 'F', 'M', 'F', 'F', 'M', 'M', 'F', 'F', 'F', 'F', 'M', 'F', 'F', 'F', 'M', 'F', 'F', 'M', 'F', 'M', 'M', 'F', 'F', 'F', 'M', 'F', 'F', 'F', 'F', 'F', 'M', 'M', 'F', 'F', 'F', 'M', 'F', 'F', 'F', 'F', 'M', 'F', 'F', 'F', 'M', 'F', 'M', 'M', 'F', 'F', 'F', 'F', 'M', 'F', 'F', 'F', 'M', 'F', 'F', 'F', 'F', 'F', 'F', 'F', 'F', 'F', 'F', 'F', 'F', 'F', 'F', 'F', 'F', 'M', 'M', 'M', 'F', 'F', 'F', 'F', 'F', 'F', 'F', 'F', 'M', 'F', 'F', 'F', 'F', 'M', 'M', 'F', 'F', 'F', 'M', 'F', 'F', 'F', 'F', 'F', 'M', 'F', 'M', 'F', 'F', 'F', 'F', 'M', 'F', 'F', 'M', 'F', 'F', 'M', 'M', 'M', 'F', 'M', 'F', 'F', 'M', 'M', 'M', 'M', 'F', 'M', 'M', 'M', 'F', 'M', 'M', 'M', 'F', 'M', 'F', 'M', 'F', 'M', 'F', 'M', 'M', 'F', 'F', 'F', 'M', 'M', 'F', 'F', 'M', 'F', 'M', 'F', 'F', 'M', 'M', 'F', 'M', 'F', 'M', 'F', 'F', 'M', 'M', 'M', 'M', 'M', 'M', 'M', 'F', 'M', 'M', 'F', 'M', 'M', 'M', 'M', 'F', 'M', 'M', 'F', 'M', 'M', 'M', 'M', 'M', 'M', 'M', 'F', 'M', 'M', 'M', 'M', 'F', 'M', 'F', 'M', 'F', 'F', 'F', 'M', 'M', 'M', 'M', 'M', 'F', 'F', 'M', 'M', 'M', 'M', 'M', 'F', 'M', 'M', 'M', 'F', 'F', 'M', 'M', 'M', 'F', 'F', 'M', 'M', 'M', 'F', 'M', 'F', 'F', 'M', 'F', 'F', 'F', 'M', 'M', 'M', 'M', 'F', 'F', 'M', 'F', 'F', 'M', 'M', 'M', 'F', 'M', 'F', 'M', 'M', 'M', 'F', 'M', 'M', 'M', 'M', 'F']\n",
            "[59, 46, 59, 45, 39, 52, 53, 43, 56, 52, 45, 50, 48, 53, 55, 53, 53, 43, 57, 46, 56, 51, 42, 41, 38, 41, 51, 55, 39, 54, 49, 46, 40, 56, 45, 35, 50, 43, 58, 54, 37, 26, 26, 40, 26, 38, 39, 46, 47, 40, 26, 58, 37, 65, 46, 55, 46, 52, 26, 48, 26, 35, 57, 46, 54, 56, 44, 52, 48, 41, 56, 65, 49, 38, 51, 55, 62, 49, 38, 53, 63, 52, 41, 42, 44, 46, 53, 61, 64, 50, 50, 38, 63, 39, 51, 62, 52, 52, 43, 60, 54, 50, 45, 38, 52, 44, 63, 45, 47, 45, 62, 53, 45, 38, 41, 38, 38, 42, 54, 45, 61, 45, 43, 43, 63, 47, 49, 49, 57, 42, 55, 43, 58, 54, 58, 49, 45, 41, 47, 44, 54, 54, 38, 48, 53, 51, 65, 37, 38, 65, 46, 47, 59, 53, 53, 42, 49, 45, 47, 56, 50, 57, 54, 46, 62, 55, 42, 53, 50, 53, 50, 64, 43, 51, 46, 55, 28, 51, 48, 45, 41, 38, 50, 50, 46, 49, 63, 37, 57, 48, 48, 39, 56, 37, 39, 42, 38, 57, 48, 42, 48, 51, 47, 52, 35, 60, 63, 47, 32, 48, 49, 55, 55, 36, 51, 53, 39, 53, 40, 59, 46, 50, 41, 65, 44, 41, 44, 41, 42, 51, 45, 49, 49, 59, 49, 47, 33, 38, 56, 44, 54, 53, 39, 38, 33, 55, 53, 39, 43, 42, 44, 51, 38, 48, 42, 65, 49, 53, 55, 50, 40, 43, 56, 29, 51, 50, 55, 44, 59, 41, 43, 32, 45, 40, 39, 36, 37, 40, 49, 43, 40, 46, 53, 52, 34, 57, 45, 44, 62, 53, 63, 58, 33, 47, 44, 53, 47, 59, 59, 37, 31, 40, 57, 44, 48, 60, 47, 50, 55, 48, 51, 57, 55, 55, 47, 59, 47, 51, 50, 37, 43, 47, 33, 56, 37, 37, 65, 57, 52, 54, 46, 46, 54, 39, 38, 34, 40, 45, 40, 45, 27, 30, 37, 41, 44, 35, 48, 61, 43, 50, 46, 35, 50, 48, 46, 40, 52, 49, 46, 43, 47, 42, 42, 33, 41, 64, 54, 48, 44, 38, 42, 52, 59, 59, 38, 44, 57, 33, 46, 44, 47, 46, 59, 48, 41, 47, 44, 39, 36, 46, 41, 36, 43, 40, 54, 55, 34, 50, 49, 55, 49, 44, 55, 58, 52, 55, 51, 56, 54, 38, 45, 51, 54, 39, 46, 40, 33, 50, 37, 43, 50, 54, 37, 56, 42, 50, 35, 36, 50, 50, 44, 43, 56, 52, 39, 37, 61, 40, 48, 42, 40, 42, 45, 44, 56, 50, 53, 44, 54, 52, 51, 37, 40, 47, 54, 39, 44, 59, 46, 40, 54, 35, 35, 52, 56, 48, 48, 44, 27, 46, 36, 42, 53, 47, 46, 34, 48, 51, 47, 57, 56, 49, 46, 38, 54, 41, 47, 44, 59, 44, 53, 35, 38, 46, 40, 45, 41, 49, 44, 50, 41, 41, 36, 41, 45, 52, 55, 45, 56, 59, 45, 63, 45, 46, 54, 52, 47, 41, 49, 48, 59, 47, 46, 45, 44, 50, 41, 53, 46, 53, 60, 43, 49, 43, 58, 46, 38, 54, 48, 52, 50, 51, 40, 54, 40, 43, 62, 54, 61, 43, 43, 51, 51, 46, 62, 58, 34, 41, 56, 41, 51, 58, 48, 62, 52, 41, 31, 51, 40, 61, 56, 30, 44, 61, 32, 40, 59, 32, 30, 53, 57, 41, 40, 40, 32, 34, 40, 55, 50, 56, 50, 49, 55, 51, 46, 42, 57, 55, 55, 54, 48, 34, 59, 48, 53, 51, 43, 41, 59, 49, 50, 50, 60, 52, 32, 41, 36, 43, 50, 41, 47, 29, 43, 59, 45, 31, 42, 48, 37, 39, 29, 54, 41, 53, 29, 44, 42, 49, 43, 31, 59, 57, 45, 31, 40, 52, 51, 45, 44, 32, 52, 46, 30, 58, 33, 49, 40, 50, 50, 49, 37, 31, 33, 30, 37, 55, 61, 55]\n"
          ]
        }
      ]
    },
    {
      "cell_type": "code",
      "source": [
        "# Salvando os dados extraidos no arquivo csv.\n",
        "\n",
        "todos_dados_extraidos = list(zip(id_dados_extraidos, sexo_dados_extraidos, idade_dados_extraidos)) # Associando todos dados em uma única lista(tuplas).\n",
        "cabeçalho = [['id', 'sexo', 'idade']] # Primeira linha do arquivo cvs.\n",
        "dados_com_cabecalho = cabeçalho + todos_dados_extraidos # Juntando o cabeçalho com os dados extraidos.\n",
        "\n",
        "# Chamamos a função na instância para salvar o csv.\n",
        "salvar_csv_estudo_1 = dados_extraidos.salvar_csv_estudo_1('credito.csv', dados_com_cabecalho)\n"
      ],
      "metadata": {
        "id": "qrx6SVxvT38j"
      },
      "execution_count": 44,
      "outputs": []
    },
    {
      "cell_type": "markdown",
      "metadata": {
        "id": "waxn4B2UDHyl"
      },
      "source": [
        "---"
      ]
    },
    {
      "cell_type": "markdown",
      "metadata": {
        "id": "finLQoyyGVmk"
      },
      "source": [
        "## 2\\. Excel para JSON"
      ]
    },
    {
      "cell_type": "markdown",
      "metadata": {
        "id": "99BrnqR4GVmy"
      },
      "source": [
        "Como preparação para o próximo módulo, vamos trabalhar com o JSON, um formato semi-estruturado, muito utilizado em transmissão de dados da web e equivalente a um **dicionário** Python."
      ]
    },
    {
      "cell_type": "markdown",
      "metadata": {
        "id": "AQqks_tohV8k"
      },
      "source": [
        "Utilizando o pacote Python `openpyxl` visto em aula, extraia os dados das colunas `escolaridade` e `tipo_cartao`, removendo duplicados. Com os dados, construa o dicionário Python `credito` com a seguinte estrutura:\n",
        "\n",
        "```python\n",
        "credito = {\n",
        "  'tipo_cartao': ['silver', 'blue', 'gold', 'platinum'],\n",
        "  'escolaridade': ['doutorado', 'mestrado', 'na', 'sem educacao formal', 'graduacao', 'ensino medio']\n",
        "}\n",
        "```\n",
        "\n",
        "Para finalizar, utilize o código abaixo para converter o dicionário `credito` no formato JSON:\n",
        "\n",
        "```python\n",
        "import json\n",
        "\n",
        "credito_json = json.dumps(credito, indent=4)\n",
        "print(credito_json)\n",
        "```\n",
        "\n",
        "**Dica:** Sua solução deve gerar o dicionário Python `credito` igual ao exemplo mas a ordem dos elementos pode variar tranquilamente.\n",
        "\n",
        "**Dica:** Uma excelente forma de remover elementos duplicados de uma lista é convertê-la para `set` e depois para `list` novamente.\n",
        "\n"
      ]
    },
    {
      "cell_type": "code",
      "metadata": {
        "id": "pCMQ5vBPjSXn",
        "colab": {
          "base_uri": "https://localhost:8080/"
        },
        "outputId": "90cb537f-bc9f-456e-d1b5-8075e2720f0b"
      },
      "source": [
        "# solução do exercício 2\n",
        "from openpyxl import load_workbook\n",
        "\n",
        "def estudo_2(arquivo: str, dado: str):\n",
        "  planilhas = load_workbook(filename=arquivo)\n",
        "  planilha = planilhas.active\n",
        "\n",
        "  dados_extraidos = []\n",
        "\n",
        "  cabecalho = next(planilha.values)\n",
        "  indice_dado = cabecalho.index(dado)\n",
        "  dados_extraidos = [linha[indice_dado] for linha in planilha.values if linha[indice_dado] != dado]\n",
        "  return list(set(dados_extraidos))\n",
        "\n",
        "tipo_cartao = estudo_2('credito.xlsx', 'tipo_cartao')\n",
        "print(tipo_cartao)\n",
        "\n",
        "escolaridade = estudo_2('credito.xlsx', 'escolaridade')\n",
        "print(escolaridade)"
      ],
      "execution_count": 49,
      "outputs": [
        {
          "output_type": "stream",
          "name": "stdout",
          "text": [
            "['platinum', 'gold', 'silver', 'blue']\n",
            "['doutorado', 'sem educacao formal', 'ensino medio', 'mestrado', 'graduacao', 'na']\n"
          ]
        }
      ]
    },
    {
      "cell_type": "code",
      "source": [
        "credito ={\n",
        "    'tipo_cartao': (tipo_cartao),\n",
        "    'escolaridade': (escolaridade)\n",
        "}\n",
        "\n",
        "print(credito)"
      ],
      "metadata": {
        "colab": {
          "base_uri": "https://localhost:8080/"
        },
        "id": "uJ5nLZbkrlzJ",
        "outputId": "d3215169-c8ec-4706-8fbd-2f8b94006139"
      },
      "execution_count": 50,
      "outputs": [
        {
          "output_type": "stream",
          "name": "stdout",
          "text": [
            "{'tipo_cartao': ['platinum', 'gold', 'silver', 'blue'], 'escolaridade': ['doutorado', 'sem educacao formal', 'ensino medio', 'mestrado', 'graduacao', 'na']}\n"
          ]
        }
      ]
    },
    {
      "cell_type": "code",
      "source": [
        "import json\n",
        "\n",
        "credito_json = json.dumps(credito, indent=4)\n",
        "print(credito_json)"
      ],
      "metadata": {
        "colab": {
          "base_uri": "https://localhost:8080/"
        },
        "id": "ie2nNjKExEwm",
        "outputId": "8bf7a3f7-5086-456a-8f77-cbf561685bab"
      },
      "execution_count": 51,
      "outputs": [
        {
          "output_type": "stream",
          "name": "stdout",
          "text": [
            "{\n",
            "    \"tipo_cartao\": [\n",
            "        \"platinum\",\n",
            "        \"gold\",\n",
            "        \"silver\",\n",
            "        \"blue\"\n",
            "    ],\n",
            "    \"escolaridade\": [\n",
            "        \"doutorado\",\n",
            "        \"sem educacao formal\",\n",
            "        \"ensino medio\",\n",
            "        \"mestrado\",\n",
            "        \"graduacao\",\n",
            "        \"na\"\n",
            "    ]\n",
            "}\n"
          ]
        }
      ]
    },
    {
      "cell_type": "markdown",
      "metadata": {
        "id": "As3enQc2GVm1"
      },
      "source": [
        "---"
      ]
    },
    {
      "cell_type": "markdown",
      "metadata": {
        "id": "SS1PxxfHILHs"
      },
      "source": [
        "## 3\\. BÔNUS: Texto para CSV"
      ]
    },
    {
      "cell_type": "markdown",
      "metadata": {
        "id": "i3f-X7y23onm"
      },
      "source": [
        "No arquivo de texto `ebac.txt` você encontra o texto presente no rodapé da página de cursos da EBAC ([link](https://ebaconline.com.br/)).\n",
        "\n"
      ]
    },
    {
      "cell_type": "markdown",
      "metadata": {
        "id": "nKDF9EBH3onp"
      },
      "source": [
        "**Arquivo TXT:** ebac.txt"
      ]
    },
    {
      "cell_type": "code",
      "metadata": {
        "id": "Pyyj5VNnb16w",
        "colab": {
          "base_uri": "https://localhost:8080/"
        },
        "outputId": "ba67f75c-83f3-43b2-c21d-649e9177c95b"
      },
      "source": [
        "%%writefile ebac.txt\n",
        "MÍDIAS SOCIAIS\n",
        "Instagram, Facebook, Youtube, LinkedIn\n",
        "\n",
        "CURSOS\n",
        "Software, Design, Marketing, Audiovisual, Programação & Data, Games\n",
        "\n",
        "WEBINARS\n",
        "Próximos, Anteriores\n",
        "\n",
        "SOBRE\n",
        "Sobre nós, Centro de carreiras, Vagas\n",
        "\n",
        "CONTATO\n",
        "WhatsApp +55 (11) 4200-2991\n",
        "Telefone +55 (11) 3030-3200\n",
        "\n",
        "BLOG\n",
        "Design, Audiovisual, Marketing"
      ],
      "execution_count": 52,
      "outputs": [
        {
          "output_type": "stream",
          "name": "stdout",
          "text": [
            "Writing ebac.txt\n"
          ]
        }
      ]
    },
    {
      "cell_type": "markdown",
      "metadata": {
        "id": "R4hMJ6D2ILH3"
      },
      "source": [
        "Extraia os números de contato do arquivo texto `ebac.txt` e salve-os no arquivo csv `contato_ebac.csv` com o separador `;` no seguinte formato:\n",
        "\n",
        "```\n",
        "tipo;numero\n",
        "whatsapp;+551142002991\n",
        "telefone;+551130303200\n",
        "```\n",
        "\n",
        "**Nota:** Escreva o código da sua solução abaixo em uma ou mais células, você não precisa enviar o arquivo csv gerado."
      ]
    },
    {
      "cell_type": "code",
      "metadata": {
        "id": "ogZClDvTILH3",
        "colab": {
          "base_uri": "https://localhost:8080/"
        },
        "outputId": "3259d0ed-d617-46b5-f60b-dc4cc53308e4"
      },
      "source": [
        "# solução do exercício 3 (bônus)\n",
        "\n",
        "def selecionar_contato(arquivo, contato):\n",
        "    with open(file=arquivo, mode='r', encoding='utf-8') as fp:\n",
        "        for linha in fp:\n",
        "            if contato in linha:\n",
        "                return linha.strip()  # Remove espaços em branco extras ao redor da linha\n",
        "\n",
        "    return None\n",
        "\n",
        "whatsapp = selecionar_contato('./ebac.txt', 'WhatsApp')\n",
        "\n",
        "caracteres_a_remover = \"WhatsApp ()-\"\n",
        "whatsapp_sem_caracteres = ''.join(c for c in whatsapp if c not in caracteres_a_remover)\n",
        "print(whatsapp_sem_caracteres)\n",
        "\n",
        "telefone = selecionar_contato('./ebac.txt', 'Telefone')\n",
        "\n",
        "caracteres_a_remover = \"Telefone ()-\"\n",
        "telefone_sem_caracteres = ''.join(c for c in telefone if c not in caracteres_a_remover)\n",
        "print(telefone_sem_caracteres)"
      ],
      "execution_count": 101,
      "outputs": [
        {
          "output_type": "stream",
          "name": "stdout",
          "text": [
            "+551142002991\n",
            "+551130303200\n"
          ]
        }
      ]
    },
    {
      "cell_type": "code",
      "source": [
        "import csv\n",
        "\n",
        "cabecalho = [['tipo', 'numero']]\n",
        "dados_contato = [['whatsaap', (whatsapp_sem_caracteres)], ['telefone', (telefone_sem_caracteres)]]\n",
        "dados_cabecalho_contato = cabecalho + dados_contato\n",
        "\n",
        "print(dados_cabecalho_contato)"
      ],
      "metadata": {
        "colab": {
          "base_uri": "https://localhost:8080/"
        },
        "id": "obDv9ipdEVZM",
        "outputId": "2e4985a5-b964-4ce1-e491-38069d077275"
      },
      "execution_count": 113,
      "outputs": [
        {
          "output_type": "stream",
          "name": "stdout",
          "text": [
            "[['tipo', 'numero'], ['whatsaap', '+551142002991'], ['telefone', '+551130303200']]\n"
          ]
        }
      ]
    },
    {
      "cell_type": "code",
      "source": [
        "with open(file='./contato_ebac.csv', mode='w', encoding='utf8') as fp:\n",
        "  escritor_csv = csv.writer(fp, delimiter=';')\n",
        "  escritor_csv.writerows(dados_cabecalho_contato)"
      ],
      "metadata": {
        "id": "JbwDvznoHrj4"
      },
      "execution_count": 115,
      "outputs": []
    },
    {
      "cell_type": "markdown",
      "metadata": {
        "id": "Fx--J2bOILH4"
      },
      "source": [
        "---"
      ]
    }
  ]
}